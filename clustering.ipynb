{
    "cells": [
        {
            "cell_type": "code",
            "execution_count": 1,
            "metadata": {},
            "outputs": [],
            "source": [
                "# Import necessary libraries",
                "from sklearn.cluster import KMeans",
                "import pandas as pd",
                "import matplotlib.pyplot as plt",
                "import os",
                "import zipfile",
                "from clean_data import clean_data"
            ]
        },
        {
            "cell_type": "code",
            "execution_count": 2,
            "metadata": {},
            "outputs": [],
            "source": [
                "# Step 1: Clean the Data",
                "clean_data()"
            ]
        },
        {
            "cell_type": "code",
            "execution_count": 3,
            "metadata": {},
            "outputs": [],
            "source": [
                "# Define the path to the cleaned data",
                "data_path = 'data/cleaned/cleaned_PanelStudyIncomeDynamics.csv'"
            ]
        },
        {
            "cell_type": "code",
            "execution_count": 4,
            "metadata": {},
            "outputs": [],
            "source": [
                "# Step 2: Load the Cleaned Data",
                "if os.path.exists(data_path):",
                "    df = pd.read_csv(data_path)",
                "else:",
                "    raise FileNotFoundError(f\"{data_path} not found.\")"
            ]
        },
        {
            "cell_type": "code",
            "execution_count": 5,
            "metadata": {},
            "outputs": [],
            "source": [
                "# Step 3: Inspect the Data",
                "print(df.head())"
            ]
        },
        {
            "cell_type": "code",
            "execution_count": 6,
            "metadata": {},
            "outputs": [],
            "source": [
                "# Step 4: Select Relevant Columns for Clustering",
                "X = df[['feature1', 'feature2']]"
            ]
        },
        {
            "cell_type": "code",
            "execution_count": 7,
            "metadata": {},
            "outputs": [],
            "source": [
                "# Step 5: Apply K-Means Clustering",
                "kmeans = KMeans(n_clusters=3, random_state=42)",
                "df['cluster'] = kmeans.fit_predict(X)"
            ]
        },
        {
            "cell_type": "code",
            "execution_count": 8,
            "metadata": {},
            "outputs": [],
            "source": [
                "# Step 6: Visualize the Clustering Results",
                "plt.figure(figsize=(10, 6))",
                "plt.scatter(df['feature1'], df['feature2'], c=df['cluster'], cmap='viridis')",
                "plt.title('K-Means Clustering')",
                "plt.xlabel('Feature 1')",
                "plt.ylabel('Feature 2')",
                "plt.colorbar(label='Cluster')",
                "plt.show()"
            ]
        }
    ],
    "metadata": {
        "kernelspec": {
            "display_name": "Python 3",
            "language": "python",
            "name": "python3"
        },
        "language_info": {
            "codemirror_mode": {
                "name": "ipython",
                "type": "string"
            },
            "file_extension": ".py",
            "mimetype": "text/x-python",
            "name": "python",
            "nbconvert_exporter": "PythonExporter",
            "pygments_lexer": "ipython3",
            "version": "3.8.5"
        }
    },
    "nbformat": 4,
    "nbformat_minor": 2
}
