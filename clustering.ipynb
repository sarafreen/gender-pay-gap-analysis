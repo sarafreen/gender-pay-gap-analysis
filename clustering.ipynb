
# notebooks/clustering.ipynb

# Import necessary libraries
from sklearn.cluster import KMeans
import pandas as pd
import matplotlib.pyplot as plt

# Load the cleaned data
data_path = '../data/cleaned/cleaned_dataset.csv'
df = pd.read_csv(data_path)

# Select relevant columns for clustering
X = df[['feature1', 'feature2']]  # Replace with appropriate feature columns

# Apply K-means clustering
kmeans = KMeans(n_clusters=3, random_state=42)
df['cluster'] = kmeans.fit_predict(X)

# Visualize clustering results
plt.figure(figsize=(10, 6))
plt.scatter(df['feature1'], df['feature2'], c=df['cluster'], cmap='viridis')
plt.title('K-means Clustering')
plt.xlabel('Feature 1')
plt.ylabel('Feature 2')
plt.colorbar(label='Cluster')
plt.show()
