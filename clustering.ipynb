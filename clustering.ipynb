# notebooks/clustering.ipynb

# Import necessary libraries
from sklearn.cluster import KMeans
import pandas as pd
import matplotlib.pyplot as plt
import os
import zipfile

# Import the clean_data function
from clean_data import clean_data

# Step 1: Clean the Data
clean_data()

# Define path to the cleaned data
data_path = 'data/cleaned/cleaned_PanelStudyIncomeDynamics.csv'

# Step 2: Load the cleaned data
if os.path.exists(data_path):
    df = pd.read_csv(data_path)
else:
    raise FileNotFoundError(f"{data_path} not found.")

# Step 3: Select relevant columns for clustering
# Replace 'feature1' and 'feature2' with appropriate column names
X = df[['feature1', 'feature2']]

# Step 4: Apply K-Means clustering
kmeans = KMeans(n_clusters=3, random_state=42)
df['cluster'] = kmeans.fit_predict(X)

# Step 5: Visualize the clustering results
plt.figure(figsize=(10, 6))
plt.scatter(df['feature1'], df['feature2'], c=df['cluster'], cmap='viridis')
plt.title('K-Means Clustering')
plt.xlabel('Feature 1')
plt.ylabel('Feature 2')
plt.colorbar(label='Cluster')
plt.show()
