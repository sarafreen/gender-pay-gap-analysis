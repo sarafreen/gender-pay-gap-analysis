
# Load libraries
import pandas as pd
from sklearn.cluster import KMeans
import matplotlib.pyplot as plt

# Load cleaned data
df = pd.read_csv('../data/cleaned/cleaned_dataset.csv')

# Example: Apply KMeans clustering
kmeans = KMeans(n_clusters=3, random_state=42)
df['cluster'] = kmeans.fit_predict(df[['example_column1', 'example_column2']])

# Plot clusters
plt.figure(figsize=(10, 6))
plt.scatter(df['example_column1'], df['example_column2'], c=df['cluster'], cmap='viridis')
plt.title('KMeans Clustering of Example Columns')
plt.xlabel('Example Column 1')
plt.ylabel('Example Column 2')
plt.show()
