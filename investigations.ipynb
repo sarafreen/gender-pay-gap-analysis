{
    "cells": [
        {
            "cell_type": "code",
            "execution_count": 1,
            "metadata": {},
            "outputs": [],
            "source": [
                "# Import necessary libraries",
                "import pandas as pd",
                "import matplotlib.pyplot as plt",
                "import seaborn as sns",
                "import os",
                "from clean_data import clean_data"
            ]
        },
        {
            "cell_type": "code",
            "execution_count": 2,
            "metadata": {},
            "outputs": [],
            "source": [
                "# Step 1: Clean the Data (if not already cleaned)",
                "clean_data()"
            ]
        },
        {
            "cell_type": "code",
            "execution_count": 3,
            "metadata": {},
            "outputs": [],
            "source": [
                "# Step 2: Load the Cleaned Data",
                "data_path = 'data/cleaned/cleaned_PanelStudyIncomeDynamics.csv'",
                "if os.path.exists(data_path):",
                "    df = pd.read_csv(data_path)",
                "else:",
                "    raise FileNotFoundError(f\"{data_path} not found.\")"
            ]
        },
        {
            "cell_type": "code",
            "execution_count": 4,
            "metadata": {},
            "outputs": [],
            "source": [
                "# Step 3: Inspect the Data",
                "print(df.head())",
                "print(df.info())",
                "print(df.describe())"
            ]
        },
        {
            "cell_type": "code",
            "execution_count": 5,
            "metadata": {},
            "outputs": [],
            "source": [
                "# Step 4: Investigating Observation 1: Sudden Spike in Income Data for Age Group 30-40",
                "# Let's filter the dataset for individuals aged 30-40",
                "age_group = df[(df['age'] >= 30) & (df['age'] <= 40)]",
                "plt.figure(figsize=(12, 6))",
                "sns.histplot(age_group['income'], kde=True, color='green')",
                "plt.title('Income Distribution for Age Group 30-40')",
                "plt.xlabel('Income')",
                "plt.ylabel('Frequency')",
                "plt.show()"
            ]
        },
        {
            "cell_type": "code",
            "execution_count": 6,
            "metadata": {},
            "outputs": [],
            "source": [
                "# Step 5: Test Hypotheses for Observation 1",
                "print('Hypothesis 1: A new job training program led to employment opportunities')",
                "# Check job status transitions for anomalies",
                "job_transitions = age_group['job_status'].value_counts()",
                "print('Job Status Distribution:', job_transitions)"
            ]
        },
        {
            "cell_type": "code",
            "execution_count": 7,
            "metadata": {},
            "outputs": [],
            "source": [
                "# Step 6: Investigating Observation 2: High Healthcare Expenses Anomalies",
                "# Filter individuals with unusually high healthcare expenses",
                "healthcare_data = df[df['healthcare_expenses'] > df['healthcare_expenses'].mean() + 3 * df['healthcare_expenses'].std()]",
                "plt.figure(figsize=(10, 6))",
                "sns.boxplot(x='age', y='healthcare_expenses', data=healthcare_data)",
                "plt.title('High Healthcare Expense Anomalies')",
                "plt.xlabel('Age')",
                "plt.ylabel('Expenses')",
                "plt.show()"
            ]
        },
        {
            "cell_type": "code",
            "execution_count": 8,
            "metadata": {},
            "outputs": [],
            "source": [
                "# Step 7: Investigating Observation 3: Erratic Savings Patterns Across Age Groups",
                "# Filter savings anomalies",
                "savings_data = df[df['savings'] < df['savings'].mean() - 2 * df['savings'].std()]", 
                "plt.figure(figsize=(12, 6))",
                "sns.scatterplot(x='age', y='savings', data=savings_data, hue='job_status')",
                "plt.title('Erratic Savings Patterns')",
                "plt.xlabel('Age')",
                "plt.ylabel('Savings')",
                "plt.show()"
            ]
        },
        {
            "cell_type": "code",
            "execution_count": 9,
            "metadata": {},
            "outputs": [],
            "source": [
                "# Step 8: Formulate Insights & Conclusions",
                "print('Observation Analysis Completed')",
                "print('Potential anomalies could be due to job changes, economic factors, or inheritance trends.')"
            ]
        }
    ],
    "metadata": {
        "kernelspec": {
            "display_name": "Python 3",
            "language": "python",
            "name": "python3"
        },
        "language_info": {
            "name": "python",
            "file_extension": ".py",
            "mimetype": "text/x-python",
            "version": "3.8"
        }
    },
    "nbformat": 4,
    "nbformat_minor": 2
}
