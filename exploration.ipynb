{
    "cells": [
        {
            "cell_type": "code",
            "execution_count": 1,
            "metadata": {},
            "outputs": [],
            "source": [
                "# Import necessary libraries",
                "import pandas as pd",
                "import matplotlib.pyplot as plt",
                "import seaborn as sns",
                "import os",
                "from clean_data import clean_data"
            ]
        },
        {
            "cell_type": "code",
            "execution_count": 2,
            "metadata": {},
            "outputs": [],
            "source": [
                "# Step 1: Clean the data (if not already cleaned)",
                "clean_data()"
            ]
        },
        {
            "cell_type": "code",
            "execution_count": 3,
            "metadata": {},
            "outputs": [],
            "source": [
                "# Step 2: Load the cleaned data",
                "data_path = 'data/cleaned/cleaned_PanelStudyIncomeDynamics.csv'",
                "if os.path.exists(data_path):",
                "    df = pd.read_csv(data_path)",
                "else:",
                "    raise FileNotFoundError(f\"{data_path} not found.\")"
            ]
        },
        {
            "cell_type": "code",
            "execution_count": 4,
            "metadata": {},
            "outputs": [],
            "source": [
                "# Step 3: Inspect the data",
                "print(df.info())",
                "print(df.describe())"
            ]
        },
        {
            "cell_type": "code",
            "execution_count": 5,
            "metadata": {},
            "outputs": [],
            "source": [
                "# Visualization 1: Distribution of a Numeric Feature",
                "plt.figure(figsize=(10, 6))",
                "sns.histplot(df['feature_column'], kde=True, color='blue')",
                "plt.title('Distribution of Feature Column')",
                "plt.xlabel('Feature')",
                "plt.ylabel('Frequency')",
                "plt.show()"
            ]
        },
        {
            "cell_type": "code",
            "execution_count": 6,
            "metadata": {},
            "outputs": [],
            "source": [
                "# Visualization 2: Boxplot for a Categorical Comparison",
                "plt.figure(figsize=(10, 6))",
                "sns.boxplot(data=df, x='category_column', y='value_column', palette='Set2')",
                "plt.title('Boxplot of Values by Category')",
                "plt.xlabel('Category')",
                "plt.ylabel('Value')",
                "plt.show()"
            ]
        },
        {
            "cell_type": "code",
            "execution_count": 7,
            "metadata": {},
            "outputs": [],
            "source": [
                "# Visualization 3: Pairplot for Feature Relationships",
                "sns.pairplot(df[['feature1', 'feature2', 'category_column']], hue='category_column', palette='coolwarm')",
                "plt.suptitle('Pairplot of Features', y=1.02)",
                "plt.show()"
            ]
        },
        {
            "cell_type": "code",
            "execution_count": 8,
            "metadata": {},
            "outputs": [],
            "source": [
                "# Visualization 4: Heatmap of Feature Correlations",
                "plt.figure(figsize=(12, 8))",
                "sns.heatmap(df.corr(), annot=True, cmap='coolwarm', fmt='.2f')",
                "plt.title('Correlation Heatmap')",
                "plt.show()"
            ]
        }
    ],
    "metadata": {
        "kernelspec": {
            "display_name": "Python 3",
            "language": "python",
            "name": "python3"
        },
        "language_info": {
            "codemirror_mode": {
                "name": "ipython",
                "type": "string"
            },
            "file_extension": ".py",
            "mimetype": "text/x-python",
            "name": "python",
            "nbconvert_exporter": "PythonExporter",
            "pygments_lexer": "ipython3",
            "version": "3.8.5"
        }
    },
    "nbformat": 4,
    "nbformat_minor": 2
}
