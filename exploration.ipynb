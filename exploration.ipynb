
# notebooks/exploration.ipynb

# Import necessary libraries
import pandas as pd
import matplotlib.pyplot as plt
import seaborn as sns

# Load the cleaned data
data_path = '../data/cleaned/cleaned_dataset.csv'
df = pd.read_csv(data_path)

# Sample exploratory analysis
# Check data summary
print(df.info())

# Example visualization 1: Distribution of a specific feature
plt.figure(figsize=(10, 6))
sns.histplot(df['feature_column'], kde=True)
plt.title('Distribution of Feature Column')
plt.xlabel('Feature')
plt.ylabel('Frequency')
plt.show()

# Example visualization 2: Boxplot for categorical comparison
plt.figure(figsize=(10, 6))
sns.boxplot(data=df, x='category_column', y='value_column')
plt.title('Boxplot of Value Column by Category')
plt.xlabel('Category')
plt.ylabel('Value')
plt.show()

