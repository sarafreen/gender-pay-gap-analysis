
# Load necessary libraries
import pandas as pd
import matplotlib.pyplot as plt
import seaborn as sns

# Load cleaned data
cleaned_data_path = '../data/cleaned/cleaned_dataset.csv'
df = pd.read_csv(cleaned_data_path)

# Example plot: Distribution of a variable
plt.figure(figsize=(10, 6))
sns.histplot(df['example_column'], kde=True)
plt.title('Distribution of Example Column')
plt.xlabel('Example Column')
plt.ylabel('Frequency')
plt.show()
