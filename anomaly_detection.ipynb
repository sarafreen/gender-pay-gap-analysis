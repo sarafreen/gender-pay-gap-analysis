{
    "cells": [
        {
            "cell_type": "code",
            "execution_count": 1,
            "metadata": {},
            "outputs": [],
            "source": [
                "# Import necessary libraries",
                "import pandas as pd",
                "import numpy as np",
                "import matplotlib.pyplot as plt",
                "import seaborn as sns",
                "from sklearn.ensemble import IsolationForest",
                "import os"
            ]
        },
        {
            "cell_type": "code",
            "execution_count": 2,
            "metadata": {},
            "outputs": [],
            "source": [
                "# Step 1: Clean the Data",
                "def clean_data():",
                "    print('Data cleaning is assumed to be done.')",
                "clean_data()"
            ]
        },
        {
            "cell_type": "code",
            "execution_count": 3,
            "metadata": {},
            "outputs": [],
            "source": [
                "# Step 2: Load the Dataset",
                "data_path = 'data/cleaned/cleaned_PanelStudyIncomeDynamics.csv'",
                "if os.path.exists(data_path):",
                "    df = pd.read_csv(data_path)",
                "else:",
                "    raise FileNotFoundError(f\"Dataset {data_path} not found.\")"
            ]
        },
        {
            "cell_type": "code",
            "execution_count": 4,
            "metadata": {},
            "outputs": [],
            "source": [
                "# Step 3: Inspect the Dataset",
                "print(\"Dataset Head:\")",
                "print(df.head())",
                "print(\"\\nDataset Statistics:\")",
                "print(df.describe())"
            ]
        },
        {
            "cell_type": "code",
            "execution_count": 5,
            "metadata": {},
            "outputs": [],
            "source": [
                "# Step 4: Select 3 Attributes for Anomaly Detection",
                "attributes = ['feature1', 'feature2', 'feature3']",
                "X = df[attributes]",
                "print(\"\\nSelected Attributes:\")",
                "print(X.head())"
            ]
        },
        {
            "cell_type": "code",
            "execution_count": 6,
            "metadata": {},
            "outputs": [],
            "source": [
                "# Step 5: Use Z-Score to Detect Anomalies",
                "# Calculate Z-Score and find anomalies",
                "mean = X.mean()",
                "std = X.std()",
                "threshold = 3",
                "z_scores = (X - mean) / std",
                "anomalies_z = (z_scores.abs() > threshold).any(axis=1)",
                "print(\"\\nAnomalies detected using Z-Score:\")",
                "print(X[anomalies_z])"
            ]
        },
        {
            "cell_type": "code",
            "execution_count": 7,
            "metadata": {},
            "outputs": [],
            "source": [
                "# Step 6: Use Isolation Forest to Detect Anomalies",
                "# Isolation Forest isolates anomalies by partitioning the dataset",
                "isolation_forest = IsolationForest(n_estimators=100, random_state=42)",
                "df['anomaly'] = isolation_forest.fit_predict(X)",
                "df['anomaly'] = df['anomaly'].map({1: False, -1: True})",
                "print(\"\\nAnomalies detected using Isolation Forest:\")",
                "print(df[df['anomaly']])"
            ]
        },
        {
            "cell_type": "code",
            "execution_count": 8,
            "metadata": {},
            "outputs": [],
            "source": [
                "# Step 7: Visualize Anomalies",
                "# Using a heatmap to visualize anomalies detected with Z-Score",
                "plt.figure(figsize=(10, 6))",
                "plt.title('Anomalies Detected Using Z-Score')",
                "sns.heatmap(X[anomalies_z].dropna(), cmap='viridis')",
                "plt.show()"
            ]
        }
    ],
    "metadata": {
        "kernelspec": {
            "display_name": "Python 3",
            "language": "python",
            "name": "python3"
        },
        "language_info": {
            "codemirror_mode": {
                "name": "ipython",
                "type": "string"
            },
            "file_extension": ".py",
            "mimetype": "text/x-python",
            "name": "python",
            "nbconvert_exporter": "PythonExporter",
            "pygments_lexer": "ipython3",
            "version": "3.8.5"
        }
    },
    "nbformat": 4,
    "nbformat_minor": 2
}

