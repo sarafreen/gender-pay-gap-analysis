{
    "cells": [
        {
            "cell_type": "code",
            "execution_count": 1,
            "metadata": {},
            "outputs": [],
            "source": [
                "# Import necessary libraries",
                "import pandas as pd",
                "import numpy as np",
                "import matplotlib.pyplot as plt",
                "import seaborn as sns",
                "from sklearn.ensemble import IsolationForest",
                "from clean_data import clean_data"
            ]
        },
        {
            "cell_type": "code",
            "execution_count": 2,
            "metadata": {},
            "outputs": [],
            "source": [
                "# Step 1: Clean the data (if not already cleaned)",
                "clean_data()"
            ]
        },
        {
            "cell_type": "code",
            "execution_count": 3,
            "metadata": {},
            "outputs": [],
            "source": [
                "# Load the cleaned dataset",
                "data_path = 'data/cleaned/cleaned_PanelStudyIncomeDynamics.csv'",
                "if os.path.exists(data_path):",
                "    df = pd.read_csv(data_path)",
                "else:",
                "    raise FileNotFoundError(f\"{data_path} not found.\")"
            ]
        },
        {
            "cell_type": "code",
            "execution_count": 4,
            "metadata": {},
            "outputs": [],
            "source": [
                "# Step 2: Inspect the data",
                "print(df.head())",
                "print(df.describe())"
            ]
        },
        {
            "cell_type": "code",
            "execution_count": 5,
            "metadata": {},
            "outputs": [],
            "source": [
                "# Select 3 attributes for anomaly detection",
                "attributes = ['feature1', 'feature2', 'feature3']",
                "X = df[attributes]"
            ]
        },
        {
            "cell_type": "code",
            "execution_count": 6,
            "metadata": {},
            "outputs": [],
            "source": [
                "# Step 3: Anomaly Detection using Z-Score",
                "mean = X.mean()",
                "std = X.std()",
                "threshold = 3",
                "z_scores = (X - mean) / std",
                "anomalies_z = (z_scores.abs() > threshold).any(axis=1)",
                "print(\"Potential anomalies detected using Z-score:\")",
                "print(X[anomalies_z])"
            ]
        },
        {
            "cell_type": "code",
            "execution_count": 7,
            "metadata": {},
            "outputs": [],
            "source": [
                "# Step 4: Anomaly Detection using Isolation Forest",
                "isolation_forest = IsolationForest(n_estimators=100, random_state=42)",
                "df['anomaly'] = isolation_forest.fit_predict(X)",
                "df['anomaly'] = df['anomaly'].map({1: False, -1: True})",
                "print(\"Potential anomalies detected using Isolation Forest:\")",
                "print(df[df['anomaly']])"
            ]
        },
        {
            "cell_type": "code",
            "execution_count": 8,
            "metadata": {},
            "outputs": [],
            "source": [
                "# Visualizing anomalies for Z-Score and Isolation Forest",
                "plt.figure(figsize=(10, 6))",
                "plt.title('Z-Score Anomalies')",
                "sns.heatmap(X[anomalies_z].dropna(), cmap='viridis')",
                "plt.show()"
            ]
        }
    ],
    "metadata": {
        "kernelspec": {
            "display_name": "Python 3",
            "language": "python",
            "name": "python3"
        },
        "language_info": {
            "codemirror_mode": {
                "name": "ipython",
                "type": "string"
            },
            "file_extension": ".py",
            "mimetype": "text/x-python",
            "name": "python",
            "nbconvert_exporter": "PythonExporter",
            "pygments_lexer": "ipython3",
            "version": "3.8.5"
        }
    }
}

