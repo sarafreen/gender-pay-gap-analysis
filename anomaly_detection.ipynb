{
    "cells": [
        {
            "cell_type": "code",
            "execution_count": 1,
            "metadata": {},
            "outputs": [],
            "source": [
                "# Import necessary libraries",
                "# These libraries help us work with data and visualize results.",
                "import pandas as pd",
                "import numpy as np",
                "import matplotlib.pyplot as plt",
                "import seaborn as sns",
                "from sklearn.ensemble import IsolationForest",
                "import os"
            ]
        },
        {
            "cell_type": "code",
            "execution_count": 2,
            "metadata": {},
            "outputs": [],
            "source": [
                "# Step 1: Clean the data",
                "# In this step, we make sure our data is clean and ready for analysis.",
                "# Normally, this means removing missing values and unnecessary columns.",
                "def clean_data():",
                "    print('Data cleaning is assumed to be done.')",
                "clean_data()"
            ]
        },
        {
            "cell_type": "code",
            "execution_count": 3,
            "metadata": {},
            "outputs": [],
            "source": [
                "# Load the dataset",
                "# We load the dataset so we can analyze it.",
                "data_path = 'data/cleaned/cleaned_PanelStudyIncomeDynamics.csv'",
                "if os.path.exists(data_path):",
                "    df = pd.read_csv(data_path)",
                "else:",
                "    raise FileNotFoundError(f\"Dataset {data_path} not found.\")"
            ]
        },
        {
            "cell_type": "code",
            "execution_count": 4,
            "metadata": {},
            "outputs": [],
            "source": [
                "# Step 2: Look at the data",
                "# Let's see the first few rows and basic statistics to understand the data.",
                "print(\"Dataset Head:\")",
                "print(df.head())",
                "print(\"Dataset Statistics:\")",
                "print(df.describe())"
            ]
        },
        {
            "cell_type": "code",
            "execution_count": 5,
            "metadata": {},
            "outputs": [],
            "source": [
                "# Step 3: Select 3 attributes for anomaly detection",
                "# We'll choose 3 features (columns) to find anomalies.",
                "attributes = ['feature1', 'feature2', 'feature3']",
                "X = df[attributes]",
                "print(X.head())"
            ]
        },
        {
            "cell_type": "code",
            "execution_count": 6,
            "metadata": {},
            "outputs": [],
            "source": [
                "# Step 4: Use Z-Score to find anomalies",
                "# Z-Score checks how far a data point is from the average.",
                "# A Z-Score greater than 3 means it's likely an anomaly.",
                "mean = X.mean()",
                "std = X.std()",
                "threshold = 3",
                "z_scores = (X - mean) / std",
                "anomalies_z = (z_scores.abs() > threshold).any(axis=1)",
                "print(\"Anomalies detected using Z-Score:\")",
                "print(X[anomalies_z])"
            ]
        },
        {
            "cell_type": "code",
            "execution_count": 7,
            "metadata": {},
            "outputs": [],
            "source": [
                "# Step 5: Use Isolation Forest to find anomalies",
                "# Isolation Forest isolates anomalies by splitting data into partitions.",
                "isolation_forest = IsolationForest(n_estimators=100, random_state=42)",
                "df['anomaly'] = isolation_forest.fit_predict(X)",
                "df['anomaly'] = df['anomaly'].map({1: False, -1: True})",
                "print(\"Anomalies detected using Isolation Forest:\")",
                "print(df[df['anomaly']])"
            ]
        },
        {
            "cell_type": "code",
            "execution_count": 8,
            "metadata": {},
            "outputs": [],
            "source": [
                "# Step 6: Visualize anomalies",
                "# We use a heatmap to visualize where anomalies are detected.",
                "plt.figure(figsize=(10, 6))",
                "plt.title('Anomalies Detected Using Z-Score')",
                "sns.heatmap(X[anomalies_z].dropna(), cmap='viridis')",
                "plt.show()"
            ]
        }
    ],
    "metadata": {
        "kernelspec": {
            "display_name": "Python 3",
            "language": "python",
            "name": "python3"
        },
        "language_info": {
            "name": "python",
            "version": "3.8.5"
        }
    }
}
