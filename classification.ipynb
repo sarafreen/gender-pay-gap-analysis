{
    "cells": [
        {
            "cell_type": "code",
            "execution_count": 1,
            "metadata": {},
            "outputs": [],
            "source": [
                "# Import necessary libraries",
                "import pandas as pd",
                "from sklearn.model_selection import train_test_split",
                "from sklearn.ensemble import RandomForestClassifier",
                "from sklearn.linear_model import LogisticRegression",
                "from sklearn.svm import SVC",
                "from sklearn.metrics import accuracy_score, confusion_matrix",
                "import matplotlib.pyplot as plt",
                "import seaborn as sns",
                "import os",
                "from clean_data import clean_data"
            ]
        },
        {
            "cell_type": "code",
            "execution_count": 2,
            "metadata": {},
            "outputs": [],
            "source": [
                "# Step 1: Clean the Data",
                "clean_data()"
            ]
        },
        {
            "cell_type": "code",
            "execution_count": 3,
            "metadata": {},
            "outputs": [],
            "source": [
                "# Define the path to the cleaned data",
                "data_path = 'data/cleaned/cleaned_PanelStudyIncomeDynamics.csv'"
            ]
        },
        {
            "cell_type": "code",
            "execution_count": 4,
            "metadata": {},
            "outputs": [],
            "source": [
                "# Step 2: Load the Cleaned Data",
                "if os.path.exists(data_path):",
                "    df = pd.read_csv(data_path)",
                "else:",
                "    raise FileNotFoundError(f\"{data_path} not found.\")"
            ]
        },
        {
            "cell_type": "code",
            "execution_count": 5,
            "metadata": {},
            "outputs": [],
            "source": [
                "# Step 3: Inspect the Data",
                "print(df.head())",
                "print(df.describe())",
                "print(df.info())"
            ]
        },
        {
            "cell_type": "code",
            "execution_count": 6,
            "metadata": {},
            "outputs": [],
            "source": [
                "# Split the data into input (X) and target (y)",
                "X = df[['feature1', 'feature2', 'feature3']]", 
                "y = df['target']",
                "X_train, X_test, y_train, y_test = train_test_split(X, y, test_size=0.2, random_state=42)"
            ]
        },
        {
            "cell_type": "code",
            "execution_count": 7,
            "metadata": {},
            "outputs": [],
            "source": [
                "### Experiment 1: Logistic Regression Model",
                "log_reg = LogisticRegression(max_iter=1000)",
                "log_reg.fit(X_train, y_train)",
                "y_pred_train = log_reg.predict(X_train)",
                "y_pred_test = log_reg.predict(X_test)",
                "train_accuracy = accuracy_score(y_train, y_pred_train)",
                "test_accuracy = accuracy_score(y_test, y_pred_test)",
                "print(f'Logistic Regression Train Accuracy: {train_accuracy}')",
                "print(f'Logistic Regression Test Accuracy: {test_accuracy}')",
                "print(confusion_matrix(y_test, y_pred_test))"
            ]
        },
        {
            "cell_type": "code",
            "execution_count": 8,
            "metadata": {},
            "outputs": [],
            "source": [
                "### Experiment 2: Random Forest Classifier",
                "rf = RandomForestClassifier(n_estimators=200, random_state=42)",
                "rf.fit(X_train, y_train)",
                "y_pred_train = rf.predict(X_train)",
                "y_pred_test = rf.predict(X_test)",
                "train_accuracy = accuracy_score(y_train, y_pred_train)",
                "test_accuracy = accuracy_score(y_test, y_pred_test)",
                "print(f'Random Forest Train Accuracy: {train_accuracy}')",
                "print(f'Random Forest Test Accuracy: {test_accuracy}')",
                "print(confusion_matrix(y_test, y_pred_test))"
            ]
        },
        {
            "cell_type": "code",
            "execution_count": 9,
            "metadata": {},
            "outputs": [],
            "source": [
                "### Experiment 3: Support Vector Machine (SVM)",
                "svm = SVC(kernel='rbf')",
                "svm.fit(X_train, y_train)",
                "y_pred_train = svm.predict(X_train)",
                "y_pred_test = svm.predict(X_test)",
                "train_accuracy = accuracy_score(y_train, y_pred_train)",
                "test_accuracy = accuracy_score(y_test, y_pred_test)",
                "print(f'SVM Train Accuracy: {train_accuracy}')",
                "print(f'SVM Test Accuracy: {test_accuracy}')",
                "print(confusion_matrix(y_test, y_pred_test))"
            ]
        },
        {
            "cell_type": "code",
            "execution_count": 10,
            "metadata": {},
            "outputs": [],
            "source": [
                "# Step 4: Data Augmentation (Adding Noise to the Dataset)",
                "df['feature1'] = df['feature1'] + pd.Series(np.random.normal(0, 0.1, len(df)))",
                "X = df[['feature1', 'feature2', 'feature3']]",
                "X_train, X_test, y_train, y_test = train_test_split(X, y, test_size=0.2, random_state=42)"
            ]
        },
        {
            "cell_type": "code",
            "execution_count": 11,
            "metadata": {},
            "outputs": [],
            "source": [
                "# Train the RandomForest on Augmented Data",
                "rf.fit(X_train, y_train)",
                "y_pred_test = rf.predict(X_test)",
                "new_accuracy = accuracy_score(y_test, y_pred_test)",
                "print(f'Augmented Random Forest Test Accuracy: {new_accuracy}')"
            ]
        }
    ],
    "metadata": {
        "kernelspec": {
            "display_name": "Python 3",
            "language": "python",
            "name": "python3"
        },
        "language_info": {
            "codemirror_mode": {
                "name": "ipython",
                "type": "string"
            },
            "file_extension": ".py",
            "mimetype": "text/x-python",
            "name": "python",
            "nbconvert_exporter": "PythonExporter",
            "pygments_lexer": "ipython3",
            "version": "3.8.5"
        }
    },
    "nbformat": 4,
    "nbformat_minor": 2
}
